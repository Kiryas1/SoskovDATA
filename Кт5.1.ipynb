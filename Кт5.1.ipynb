{
 "cells": [
  {
   "cell_type": "code",
   "execution_count": 12,
   "id": "ff4d5095",
   "metadata": {},
   "outputs": [
    {
     "name": "stdout",
     "output_type": "stream",
     "text": [
      "Файл vuz_data.json успешно создан\n"
     ]
    }
   ],
   "source": [
    "import sqlite3\n",
    "import json\n",
    "\n",
    "def generate_vuz_json(db_file, output_file):\n",
    "    conn = sqlite3.connect(db_file)\n",
    "    cursor = conn.cursor()\n",
    "    \n",
    "    # Получаем данные о вузах\n",
    "    cursor.execute(\"SELECT id, short_name, checked FROM sp_vuz\")\n",
    "    vuz_data = cursor.fetchall()\n",
    "    \n",
    "    # Получаем данные об оборудовании\n",
    "    cursor.execute(\"SELECT sp_vuz_id, full_name FROM table4_equipment\")\n",
    "    equipment_data = cursor.fetchall()\n",
    "    \n",
    "    # Группируем оборудование по вузам\n",
    "    equipments = {}\n",
    "    for vuz_id, name in equipment_data:\n",
    "        if vuz_id not in equipments:\n",
    "            equipments[vuz_id] = []\n",
    "        equipments[vuz_id].append(name.strip())\n",
    "    \n",
    "    # Формируем список документов\n",
    "    documents = []\n",
    "    for vuz_id, short_name, checked in vuz_data:\n",
    "        doc = {\n",
    "            \"_id\": vuz_id,\n",
    "            \"short_name\": short_name,\n",
    "            \"checked\": bool(checked),\n",
    "            \"equipments\": equipments.get(vuz_id, [])\n",
    "        }\n",
    "        documents.append(doc)\n",
    "    \n",
    "    # Сохраняем в файл в формате JSON\n",
    "    with open(output_file, 'w', encoding='utf-8') as f:\n",
    "        json.dump(documents, f, ensure_ascii=False, indent=2)\n",
    "    \n",
    "    conn.close()\n",
    "    print(f\"Файл {output_file} успешно создан\")\n",
    "\n",
    "# Использование\n",
    "generate_vuz_json('nanoedu.db', 'vuz_data.json')"
   ]
  },
  {
   "cell_type": "code",
   "execution_count": null,
   "id": "1eaf1f90",
   "metadata": {},
   "outputs": [],
   "source": []
  }
 ],
 "metadata": {
  "kernelspec": {
   "display_name": "Python 3",
   "language": "python",
   "name": "python3"
  },
  "language_info": {
   "codemirror_mode": {
    "name": "ipython",
    "version": 3
   },
   "file_extension": ".py",
   "mimetype": "text/x-python",
   "name": "python",
   "nbconvert_exporter": "python",
   "pygments_lexer": "ipython3",
   "version": "3.12.1"
  }
 },
 "nbformat": 4,
 "nbformat_minor": 5
}
